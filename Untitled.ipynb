{
 "cells": [
  {
   "cell_type": "markdown",
   "id": "straight-harbor",
   "metadata": {},
   "source": [
    "## 1. Introduction/Business Problem\n",
    "This project deals with discussing the neighborhoods of Mumbai, India. This project is aimed to help Business people looking forward to start new Cafe,Restaurants, Hotels, etc. in Mumbai, India by analysing the neighbourbood for existing businesses and choosing the most suitable location.\n",
    "\n",
    "The Foursquare API is used to access the venues in the neighborhoods. Then they are clustered based on their venues using Data Science Techniques. Here the k-means clustering algorithm is used to achieve the task. The optimal number of clusters can be obtained using sum of squared distance. Folium visualization library can be used to visualize the clusters superimposed on the map of Mumbai. These clusters can be analyzed to help small scale business owners select a suitable location for their need.\n",
    "\n",
    "In this I have taken Coffee Shop / Cafe as an example."
   ]
  },
  {
   "cell_type": "markdown",
   "id": "latin-watershed",
   "metadata": {},
   "source": [
    "## 2. Data Sections\n",
    "Importing Libraries"
   ]
  },
  {
   "cell_type": "code",
   "execution_count": 1,
   "id": "hearing-hundred",
   "metadata": {},
   "outputs": [],
   "source": [
    "\n",
    "import pandas as pd\n",
    "import requests\n",
    "import numpy as np\n",
    "import geocoder\n",
    "import folium\n",
    "import requests \n",
    "import matplotlib.cm as cm\n",
    "import matplotlib.colors as colors\n",
    "import json\n",
    "import xml\n",
    "import matplotlib.pyplot as plt\n",
    "%matplotlib inline\n",
    "import warnings\n",
    "warnings.filterwarnings(\"ignore\")\n",
    "\n",
    "from pandas.io.json import json_normalize \n",
    "from sklearn.cluster import KMeans\n",
    "from geopy.geocoders import Nominatim \n",
    "from bs4 import BeautifulSoup\n",
    "from geopy.extra.rate_limiter import RateLimiter\n",
    "\n",
    "pd.set_option('display.max_columns', None)\n",
    "pd.set_option('display.max_rows', None)"
   ]
  },
  {
   "cell_type": "markdown",
   "id": "personal-loading",
   "metadata": {},
   "source": [
    "### 2. What data is used?\n",
    "The data is obtained from wikipedia: Neighbourhood of Mumbai\n",
    "Web-scrapped using soup."
   ]
  },
  {
   "cell_type": "code",
   "execution_count": 2,
   "id": "future-aerospace",
   "metadata": {},
   "outputs": [
    {
     "data": {
      "text/html": [
       "<div>\n",
       "<style scoped>\n",
       "    .dataframe tbody tr th:only-of-type {\n",
       "        vertical-align: middle;\n",
       "    }\n",
       "\n",
       "    .dataframe tbody tr th {\n",
       "        vertical-align: top;\n",
       "    }\n",
       "\n",
       "    .dataframe thead th {\n",
       "        text-align: right;\n",
       "    }\n",
       "</style>\n",
       "<table border=\"1\" class=\"dataframe\">\n",
       "  <thead>\n",
       "    <tr style=\"text-align: right;\">\n",
       "      <th></th>\n",
       "      <th>Neighborhood</th>\n",
       "    </tr>\n",
       "  </thead>\n",
       "  <tbody>\n",
       "    <tr>\n",
       "      <th>0</th>\n",
       "      <td>Aarey Forest</td>\n",
       "    </tr>\n",
       "    <tr>\n",
       "      <th>1</th>\n",
       "      <td>Agripada</td>\n",
       "    </tr>\n",
       "    <tr>\n",
       "      <th>2</th>\n",
       "      <td>Altamount Road</td>\n",
       "    </tr>\n",
       "    <tr>\n",
       "      <th>3</th>\n",
       "      <td>Amboli, Mumbai</td>\n",
       "    </tr>\n",
       "    <tr>\n",
       "      <th>4</th>\n",
       "      <td>Amrut Nagar</td>\n",
       "    </tr>\n",
       "  </tbody>\n",
       "</table>\n",
       "</div>"
      ],
      "text/plain": [
       "     Neighborhood\n",
       "0    Aarey Forest\n",
       "1        Agripada\n",
       "2  Altamount Road\n",
       "3  Amboli, Mumbai\n",
       "4     Amrut Nagar"
      ]
     },
     "execution_count": 2,
     "metadata": {},
     "output_type": "execute_result"
    }
   ],
   "source": [
    "data = requests.get(\"https://en.wikipedia.org/wiki/Category:Neighbourhoods_in_Mumbai\").text\n",
    "soup = BeautifulSoup(data, 'lxml')\n",
    "textList = []\n",
    "neighborhoodList = []\n",
    "\n",
    "# append the data into the list\n",
    "neighborhoodList.clear()\n",
    "\n",
    "for row in soup.find_all(\"div\", class_=\"mw-category\")[0].findAll(\"li\"):\n",
    "    neighborhoodList.append(row.text)\n",
    "    \n",
    "df = pd.DataFrame({\"Neighborhood\": neighborhoodList})\n",
    "df1 = df.iloc[1:]\n",
    "mumbai_df = df1.reset_index(drop=True)\n",
    "mumbai_df.head()"
   ]
  },
  {
   "cell_type": "markdown",
   "id": "tamil-value",
   "metadata": {},
   "source": [
    "## 3. Geo-coordinates"
   ]
  },
  {
   "cell_type": "code",
   "execution_count": 3,
   "id": "comic-northern",
   "metadata": {},
   "outputs": [
    {
     "name": "stdout",
     "output_type": "stream",
     "text": [
      "(134, 3)\n"
     ]
    },
    {
     "data": {
      "text/html": [
       "<div>\n",
       "<style scoped>\n",
       "    .dataframe tbody tr th:only-of-type {\n",
       "        vertical-align: middle;\n",
       "    }\n",
       "\n",
       "    .dataframe tbody tr th {\n",
       "        vertical-align: top;\n",
       "    }\n",
       "\n",
       "    .dataframe thead th {\n",
       "        text-align: right;\n",
       "    }\n",
       "</style>\n",
       "<table border=\"1\" class=\"dataframe\">\n",
       "  <thead>\n",
       "    <tr style=\"text-align: right;\">\n",
       "      <th></th>\n",
       "      <th>Neighborhood</th>\n",
       "      <th>Latitude</th>\n",
       "      <th>Longitude</th>\n",
       "    </tr>\n",
       "  </thead>\n",
       "  <tbody>\n",
       "    <tr>\n",
       "      <th>0</th>\n",
       "      <td>Aarey Forest</td>\n",
       "      <td>19.138660</td>\n",
       "      <td>72.884250</td>\n",
       "    </tr>\n",
       "    <tr>\n",
       "      <th>1</th>\n",
       "      <td>Agripada</td>\n",
       "      <td>18.976280</td>\n",
       "      <td>72.826150</td>\n",
       "    </tr>\n",
       "    <tr>\n",
       "      <th>2</th>\n",
       "      <td>Altamount Road</td>\n",
       "      <td>18.964334</td>\n",
       "      <td>72.807842</td>\n",
       "    </tr>\n",
       "    <tr>\n",
       "      <th>3</th>\n",
       "      <td>Amboli, Mumbai</td>\n",
       "      <td>18.940170</td>\n",
       "      <td>72.834830</td>\n",
       "    </tr>\n",
       "    <tr>\n",
       "      <th>4</th>\n",
       "      <td>Amrut Nagar</td>\n",
       "      <td>19.145160</td>\n",
       "      <td>72.846740</td>\n",
       "    </tr>\n",
       "  </tbody>\n",
       "</table>\n",
       "</div>"
      ],
      "text/plain": [
       "     Neighborhood   Latitude  Longitude\n",
       "0    Aarey Forest  19.138660  72.884250\n",
       "1        Agripada  18.976280  72.826150\n",
       "2  Altamount Road  18.964334  72.807842\n",
       "3  Amboli, Mumbai  18.940170  72.834830\n",
       "4     Amrut Nagar  19.145160  72.846740"
      ]
     },
     "execution_count": 3,
     "metadata": {},
     "output_type": "execute_result"
    }
   ],
   "source": [
    "# Geographical coordinates of neighborhoods\n",
    "\n",
    "# define a function to get coordinates\n",
    "def get_latlng(neighborhood):\n",
    "    # initialize your variable to None\n",
    "    lat_lng_coords = None\n",
    "    # loop until you get the coordinates\n",
    "    while(lat_lng_coords is None):\n",
    "        g = geocoder.arcgis('{}, Mumbai, India'.format(neighborhood))\n",
    "        lat_lng_coords = g.latlng\n",
    "    return lat_lng_coords\n",
    "\n",
    "coords = [ get_latlng(neighborhood) for neighborhood in mumbai_df[\"Neighborhood\"].tolist() ]\n",
    "\n",
    "df_coords = pd.DataFrame(coords, columns=['Latitude', 'Longitude'])\n",
    "\n",
    "# merge the coordinates into the original dataframe\n",
    "mumbai_df['Latitude'] = df_coords['Latitude']\n",
    "mumbai_df['Longitude'] = df_coords['Longitude']\n",
    "\n",
    "\n",
    "# check the neighborhoods and the coordinates\n",
    "print(mumbai_df.shape)\n",
    "mumbai_df.head()"
   ]
  },
  {
   "cell_type": "code",
   "execution_count": null,
   "id": "integrated-skating",
   "metadata": {},
   "outputs": [],
   "source": []
  }
 ],
 "metadata": {
  "kernelspec": {
   "display_name": "Python 3",
   "language": "python",
   "name": "python3"
  },
  "language_info": {
   "codemirror_mode": {
    "name": "ipython",
    "version": 3
   },
   "file_extension": ".py",
   "mimetype": "text/x-python",
   "name": "python",
   "nbconvert_exporter": "python",
   "pygments_lexer": "ipython3",
   "version": "3.9.2"
  }
 },
 "nbformat": 4,
 "nbformat_minor": 5
}
